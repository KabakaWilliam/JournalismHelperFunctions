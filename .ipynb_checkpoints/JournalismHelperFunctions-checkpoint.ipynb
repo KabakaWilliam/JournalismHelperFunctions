{
 "cells": [
  {
   "cell_type": "code",
   "execution_count": 7,
   "metadata": {},
   "outputs": [
    {
     "name": "stderr",
     "output_type": "stream",
     "text": [
      "All model checkpoint layers were used when initializing TFT5ForConditionalGeneration.\n",
      "\n",
      "All the layers of TFT5ForConditionalGeneration were initialized from the model checkpoint at t5-small.\n",
      "If your task is similar to the task the model of the checkpoint was trained on, you can already use TFT5ForConditionalGeneration for predictions without further training.\n"
     ]
    }
   ],
   "source": [
    "from transformers import pipeline\n",
    "summarizer = pipeline(\"summarization\")"
   ]
  },
  {
   "cell_type": "code",
   "execution_count": 2,
   "metadata": {},
   "outputs": [],
   "source": [
    "# it loads the file\n",
    "def loadFile(filename):\n",
    "    store = ''\n",
    "    filename = str(filename)\n",
    "    with open(filename, \"r\") as f:\n",
    "        temp = f.read()\n",
    "    for line in temp:\n",
    "        clearedLine = line.rstrip(\"\\n\")\n",
    "        store += clearedLine\n",
    "    return store"
   ]
  },
  {
   "cell_type": "code",
   "execution_count": 3,
   "metadata": {},
   "outputs": [],
   "source": [
    "# replace the end of sentences with end to make it easier to split them in a list\n",
    "def cleanSentence(s):\n",
    "    s = s.replace('.', '.<end>')\n",
    "    s = s.replace('?', '?<end>')\n",
    "    s = s.replace('!', '!<end>')\n",
    "    allTokens = s.split(\"<end>\")\n",
    "    return allTokens"
   ]
  },
  {
   "cell_type": "code",
   "execution_count": null,
   "metadata": {},
   "outputs": [],
   "source": [
    "#Return tokens of all sentences in the text\n",
    "def magicTokenise(s): \n",
    "    maxChunk = 400 #limit of reading tokens to 500 words at once\n",
    "    sentences = cleanSentence(s)\n",
    "    current_chunk = 0\n",
    "    chunks = []\n",
    "    for sentence in sentences:\n",
    "        if len(chunks) == current_chunk + 1:\n",
    "            if len(chunks[current_chunk]) + len(sentence.split(' ')) <= maxChunk:\n",
    "                chunks[current_chunk].extend(sentence.split(' '))\n",
    "            else:\n",
    "                current_chunk += 1\n",
    "                chunks.append(sentence.split(' '))\n",
    "        else:\n",
    "            # print(current_chunk)\n",
    "            chunks.append(sentence.split(' '))\n",
    "\n",
    "    for chunk_id in range(len(chunks)):\n",
    "        # print(chunk_id)\n",
    "        chunks[chunk_id] = ' '.join(chunks[chunk_id])\n",
    "    return chunks"
   ]
  },
  {
   "cell_type": "code",
   "execution_count": 22,
   "metadata": {},
   "outputs": [],
   "source": [
    "def joinSentences(FinalText):\n",
    "    Finished = ' '.join([summ['summary_text'] for summ in FinalText])\n",
    "    return Finished"
   ]
  },
  {
   "cell_type": "markdown",
   "metadata": {},
   "source": [
    "<h1> MAIN SUMMARIZER FUNCTION </h1>"
   ]
  },
  {
   "cell_type": "code",
   "execution_count": 23,
   "metadata": {},
   "outputs": [],
   "source": [
    "# Package all the code Together in One Function.\n",
    "# Run this to get the summary you need\n",
    "def SummarizeDoc(filename, wordCount):\n",
    "    myEssay = loadFile(filename)\n",
    "    Draft = magicTokenise(myEssay)\n",
    "#     print(Draft)\n",
    "    mySummary = summarizer(Draft, min_length = 20, max_length = wordCount)\n",
    "    print(mySummary)\n",
    "    finishedDraft = joinSentences(mySummary)\n",
    "    return finishedDraft"
   ]
  },
  {
   "cell_type": "code",
   "execution_count": 24,
   "metadata": {},
   "outputs": [
    {
     "name": "stdout",
     "output_type": "stream",
     "text": [
      "[{'summary_text': 'the number of coordinated inauthentic behavior (CIB) campaigns derailed at the leading social network since 2017 . those behind influence operations (IO) went unchecked on the playing field in 2016 . Facebook has invested in hiring, automated systems, and industry alliances over the ensuing years .'}, {'summary_text': \"'we found and removed IO attempting to get authentic voices to post on their behalf,' the report said . IO also saw authentic voices promoting false information amplified by IO from various countries including Russia and Iran .\"}]\n"
     ]
    },
    {
     "data": {
      "text/plain": [
       "\"the number of coordinated inauthentic behavior (CIB) campaigns derailed at the leading social network since 2017 . those behind influence operations (IO) went unchecked on the playing field in 2016 . Facebook has invested in hiring, automated systems, and industry alliances over the ensuing years . 'we found and removed IO attempting to get authentic voices to post on their behalf,' the report said . IO also saw authentic voices promoting false information amplified by IO from various countries including Russia and Iran .\""
      ]
     },
     "execution_count": 24,
     "metadata": {},
     "output_type": "execute_result"
    }
   ],
   "source": [
    "SummarizeDoc(\"untitled.txt\", 100)"
   ]
  },
  {
   "cell_type": "markdown",
   "metadata": {},
   "source": [
    "<h1> FORMAT AP STYLE TITLE </h1>"
   ]
  },
  {
   "cell_type": "code",
   "execution_count": 3,
   "metadata": {},
   "outputs": [],
   "source": [
    "# Will format your tutle into AP style\n",
    "def fixTitle(s):\n",
    "    s = s.lower()\n",
    "    illegalWords = [\"in\", \"by\", \"the\", \"on\", \"for\", \"of\", \"we\", \"to\", \"at\", \"do\"] \n",
    "    temp = ''\n",
    "    store = s.split(\" \")\n",
    "\n",
    "    for word in store:\n",
    "        if word not in illegalWords:\n",
    "            # print(\"runs\")\n",
    "            temp += word[0].upper() + word[1:] + \" \"\n",
    "            # print(temp)\n",
    "        else:\n",
    "            temp += word.lower()  + \" \"\n",
    "    return temp\n"
   ]
  },
  {
   "cell_type": "markdown",
   "metadata": {},
   "source": [
    "<h1> Converting docx to TXT </h1>"
   ]
  },
  {
   "cell_type": "code",
   "execution_count": 25,
   "metadata": {},
   "outputs": [
    {
     "ename": "ModuleNotFoundError",
     "evalue": "No module named 'pypandoc'",
     "output_type": "error",
     "traceback": [
      "\u001b[0;31m---------------------------------------------------------------------------\u001b[0m",
      "\u001b[0;31mModuleNotFoundError\u001b[0m                       Traceback (most recent call last)",
      "\u001b[0;32m<ipython-input-25-7838cf80005a>\u001b[0m in \u001b[0;36m<module>\u001b[0;34m\u001b[0m\n\u001b[0;32m----> 1\u001b[0;31m \u001b[0;32mimport\u001b[0m \u001b[0mpypandoc\u001b[0m\u001b[0;34m\u001b[0m\u001b[0;34m\u001b[0m\u001b[0m\n\u001b[0m\u001b[1;32m      2\u001b[0m \u001b[0;34m\u001b[0m\u001b[0m\n\u001b[1;32m      3\u001b[0m \u001b[0;31m# Example file:\u001b[0m\u001b[0;34m\u001b[0m\u001b[0;34m\u001b[0m\u001b[0;34m\u001b[0m\u001b[0m\n\u001b[1;32m      4\u001b[0m \u001b[0mdocxFilename\u001b[0m \u001b[0;34m=\u001b[0m \u001b[0;34m'somefile.docx'\u001b[0m\u001b[0;34m\u001b[0m\u001b[0;34m\u001b[0m\u001b[0m\n\u001b[1;32m      5\u001b[0m \u001b[0moutput\u001b[0m \u001b[0;34m=\u001b[0m \u001b[0mpypandoc\u001b[0m\u001b[0;34m.\u001b[0m\u001b[0mconvert_file\u001b[0m\u001b[0;34m(\u001b[0m\u001b[0mdocxFilename\u001b[0m\u001b[0;34m,\u001b[0m \u001b[0;34m'txt'\u001b[0m\u001b[0;34m,\u001b[0m \u001b[0moutputfile\u001b[0m\u001b[0;34m=\u001b[0m\u001b[0;34m\"somefile.txt\"\u001b[0m\u001b[0;34m)\u001b[0m\u001b[0;34m\u001b[0m\u001b[0;34m\u001b[0m\u001b[0m\n",
      "\u001b[0;31mModuleNotFoundError\u001b[0m: No module named 'pypandoc'"
     ]
    }
   ],
   "source": [
    "import pypandoc\n",
    "\n",
    "\n",
    "def convertWordFile(docx):\n",
    "    docxFilename = 'docx'\n",
    "    output = pypandoc.convert_file(docxFilename, 'txt', outputfile=\"somefile.txt\")\n",
    "    assert output == \"\""
   ]
  },
  {
   "cell_type": "code",
   "execution_count": null,
   "metadata": {},
   "outputs": [],
   "source": []
  }
 ],
 "metadata": {
  "kernelspec": {
   "display_name": "Python 3",
   "language": "python",
   "name": "python3"
  },
  "language_info": {
   "codemirror_mode": {
    "name": "ipython",
    "version": 3
   },
   "file_extension": ".py",
   "mimetype": "text/x-python",
   "name": "python",
   "nbconvert_exporter": "python",
   "pygments_lexer": "ipython3",
   "version": "3.7.6"
  }
 },
 "nbformat": 4,
 "nbformat_minor": 4
}
