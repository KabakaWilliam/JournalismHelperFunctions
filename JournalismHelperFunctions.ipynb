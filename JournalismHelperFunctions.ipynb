{
 "cells": [
  {
   "cell_type": "code",
   "execution_count": 1,
   "metadata": {},
   "outputs": [
    {
     "name": "stdout",
     "output_type": "stream",
     "text": [
      "Collecting transformers\n",
      "  Downloading transformers-4.6.0-py3-none-any.whl (2.3 MB)\n",
      "\u001b[K     |████████████████████████████████| 2.3 MB 1.0 MB/s eta 0:00:01\n",
      "\u001b[?25hRequirement already satisfied: tqdm>=4.27 in /Users/wgl8723/opt/anaconda3/lib/python3.7/site-packages (from transformers) (4.42.1)\n",
      "Requirement already satisfied: importlib-metadata in /Users/wgl8723/opt/anaconda3/lib/python3.7/site-packages (from transformers) (1.5.0)\n",
      "Collecting sacremoses\n",
      "  Using cached sacremoses-0.0.45-py3-none-any.whl (895 kB)\n",
      "Collecting tokenizers<0.11,>=0.10.1\n",
      "  Using cached tokenizers-0.10.2-cp37-cp37m-macosx_10_11_x86_64.whl (2.3 MB)\n",
      "Requirement already satisfied: packaging in /Users/wgl8723/opt/anaconda3/lib/python3.7/site-packages (from transformers) (20.1)\n",
      "Requirement already satisfied: filelock in /Users/wgl8723/opt/anaconda3/lib/python3.7/site-packages (from transformers) (3.0.12)\n",
      "Collecting huggingface-hub==0.0.8\n",
      "  Downloading huggingface_hub-0.0.8-py3-none-any.whl (34 kB)\n",
      "Collecting regex!=2019.12.17\n",
      "  Using cached regex-2021.4.4-cp37-cp37m-macosx_10_9_x86_64.whl (285 kB)\n",
      "Requirement already satisfied: numpy>=1.17 in /Users/wgl8723/opt/anaconda3/lib/python3.7/site-packages (from transformers) (1.19.5)\n",
      "Requirement already satisfied: requests in /Users/wgl8723/opt/anaconda3/lib/python3.7/site-packages (from transformers) (2.22.0)\n",
      "Requirement already satisfied: zipp>=0.5 in /Users/wgl8723/opt/anaconda3/lib/python3.7/site-packages (from importlib-metadata->transformers) (2.2.0)\n",
      "Requirement already satisfied: pyparsing>=2.0.2 in /Users/wgl8723/opt/anaconda3/lib/python3.7/site-packages (from packaging->transformers) (2.4.6)\n",
      "Requirement already satisfied: six in /Users/wgl8723/opt/anaconda3/lib/python3.7/site-packages (from packaging->transformers) (1.15.0)\n",
      "Requirement already satisfied: idna<2.9,>=2.5 in /Users/wgl8723/opt/anaconda3/lib/python3.7/site-packages (from requests->transformers) (2.8)\n",
      "Requirement already satisfied: urllib3!=1.25.0,!=1.25.1,<1.26,>=1.21.1 in /Users/wgl8723/opt/anaconda3/lib/python3.7/site-packages (from requests->transformers) (1.25.8)\n",
      "Requirement already satisfied: chardet<3.1.0,>=3.0.2 in /Users/wgl8723/opt/anaconda3/lib/python3.7/site-packages (from requests->transformers) (3.0.4)\n",
      "Requirement already satisfied: certifi>=2017.4.17 in /Users/wgl8723/opt/anaconda3/lib/python3.7/site-packages (from requests->transformers) (2019.11.28)\n",
      "Requirement already satisfied: joblib in /Users/wgl8723/opt/anaconda3/lib/python3.7/site-packages (from sacremoses->transformers) (0.14.1)\n",
      "Requirement already satisfied: click in /Users/wgl8723/opt/anaconda3/lib/python3.7/site-packages (from sacremoses->transformers) (7.0)\n",
      "Installing collected packages: regex, tokenizers, sacremoses, huggingface-hub, transformers\n",
      "Successfully installed huggingface-hub-0.0.8 regex-2021.4.4 sacremoses-0.0.45 tokenizers-0.10.2 transformers-4.6.0\n"
     ]
    }
   ],
   "source": [
    "!pip install transformers\n",
    "from transformers import pipeline\n",
    "summarizer = pipeline(\"summarization\")"
   ]
  },
  {
   "cell_type": "code",
   "execution_count": null,
   "metadata": {},
   "outputs": [],
   "source": [
    "# it loads the file\n",
    "def loadFile(filename):\n",
    "    store = ''\n",
    "    filename = str(filename)\n",
    "    with open(filename, \"r\") as f:\n",
    "        temp = f.read()\n",
    "    for line in temp:\n",
    "        clearedLine = line.rstrip(\"\\n\")\n",
    "        store += clearedLine\n",
    "    return store"
   ]
  },
  {
   "cell_type": "code",
   "execution_count": null,
   "metadata": {},
   "outputs": [],
   "source": [
    "# replace the end of sentences with end to make it easier to split them in a list\n",
    "def cleanSentence(s):\n",
    "    s = s.replace('.', '.<end>')\n",
    "    s = s.replace('?', '?<end>')\n",
    "    s = s.replace('!', '!<end>')\n",
    "    allTokens = s.split(\"<end>\")\n",
    "    return allTokens"
   ]
  },
  {
   "cell_type": "code",
   "execution_count": null,
   "metadata": {},
   "outputs": [],
   "source": [
    "#Return tokens of all sentences in the text\n",
    "def magicTokenise(s): \n",
    "    maxChunk = 400 #limit of reading tokens to 500 words at once\n",
    "    sentences = cleanSentence(s)\n",
    "    current_chunk = 0\n",
    "    chunks = []\n",
    "    for sentence in sentences:\n",
    "        if len(chunks) == current_chunk + 1:\n",
    "            if len(chunks[current_chunk]) + len(sentence.split(' ')) <= maxChunk:\n",
    "                chunks[current_chunk].extend(sentence.split(' '))\n",
    "            else:\n",
    "                current_chunk += 1\n",
    "                chunks.append(sentence.split(' '))\n",
    "        else:\n",
    "            # print(current_chunk)\n",
    "            chunks.append(sentence.split(' '))\n",
    "\n",
    "    for chunk_id in range(len(chunks)):\n",
    "        # print(chunk_id)\n",
    "        chunks[chunk_id] = ' '.join(chunks[chunk_id])\n",
    "    return chunks"
   ]
  },
  {
   "cell_type": "markdown",
   "metadata": {},
   "source": [
    "<h1> MAIN SUMMARIZER FUNCTION </h1>"
   ]
  },
  {
   "cell_type": "code",
   "execution_count": null,
   "metadata": {},
   "outputs": [],
   "source": [
    "# Package all the code Together in One Function.\n",
    "# Run this to get the summary you need\n",
    "def SummarizeDoc(filename, wordCount):\n",
    "  myEssay = loadFile(filename)\n",
    "  Draft = magicTokenise(myEssay)\n",
    "  mySummary = summarizer(Draft, min_length = 20, max_length = wordCount)\n",
    "  finishedDraft = joinSentences(mySummary)\n",
    "  return finishedDraft"
   ]
  },
  {
   "cell_type": "markdown",
   "metadata": {},
   "source": [
    "<h1> FORMAT AP STYLE TITLE </h1>"
   ]
  },
  {
   "cell_type": "code",
   "execution_count": 3,
   "metadata": {},
   "outputs": [],
   "source": [
    "# Will format your tutle into AP style\n",
    "def fixTitle(s):\n",
    "    s = s.lower()\n",
    "    illegalWords = [\"in\", \"by\", \"the\", \"on\", \"for\", \"of\", \"we\", \"to\", \"at\", \"do\"] \n",
    "    temp = ''\n",
    "    store = s.split(\" \")\n",
    "\n",
    "    for word in store:\n",
    "        if word not in illegalWords:\n",
    "            # print(\"runs\")\n",
    "            temp += word[0].upper() + word[1:] + \" \"\n",
    "            # print(temp)\n",
    "        else:\n",
    "            temp += word.lower()  + \" \"\n",
    "    return temp\n"
   ]
  },
  {
   "cell_type": "code",
   "execution_count": null,
   "metadata": {},
   "outputs": [],
   "source": []
  }
 ],
 "metadata": {
  "kernelspec": {
   "display_name": "Python 3",
   "language": "python",
   "name": "python3"
  },
  "language_info": {
   "codemirror_mode": {
    "name": "ipython",
    "version": 3
   },
   "file_extension": ".py",
   "mimetype": "text/x-python",
   "name": "python",
   "nbconvert_exporter": "python",
   "pygments_lexer": "ipython3",
   "version": "3.7.6"
  }
 },
 "nbformat": 4,
 "nbformat_minor": 4
}
