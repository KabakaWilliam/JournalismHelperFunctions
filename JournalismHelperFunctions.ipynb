{
 "cells": [
  {
   "cell_type": "code",
   "execution_count": 7,
   "metadata": {},
   "outputs": [
    {
     "name": "stderr",
     "output_type": "stream",
     "text": [
      "All model checkpoint layers were used when initializing TFT5ForConditionalGeneration.\n",
      "\n",
      "All the layers of TFT5ForConditionalGeneration were initialized from the model checkpoint at t5-small.\n",
      "If your task is similar to the task the model of the checkpoint was trained on, you can already use TFT5ForConditionalGeneration for predictions without further training.\n"
     ]
    }
   ],
   "source": [
    "from transformers import pipeline\n",
    "summarizer = pipeline(\"summarization\")"
   ]
  },
  {
   "cell_type": "code",
   "execution_count": 2,
   "metadata": {},
   "outputs": [],
   "source": [
    "# it loads the file\n",
    "def loadFile(filename):\n",
    "    store = ''\n",
    "    filename = str(filename)\n",
    "    with open(filename, \"r\") as f:\n",
    "        temp = f.read()\n",
    "    for line in temp:\n",
    "        clearedLine = line.rstrip(\"\\n\")\n",
    "        store += clearedLine\n",
    "    return store"
   ]
  },
  {
   "cell_type": "code",
   "execution_count": 3,
   "metadata": {},
   "outputs": [],
   "source": [
    "# replace the end of sentences with end to make it easier to split them in a list\n",
    "def cleanSentence(s):\n",
    "    s = s.replace('.', '.<end>')\n",
    "    s = s.replace('?', '?<end>')\n",
    "    s = s.replace('!', '!<end>')\n",
    "    allTokens = s.split(\"<end>\")\n",
    "    return allTokens"
   ]
  },
  {
   "cell_type": "code",
   "execution_count": 39,
   "metadata": {},
   "outputs": [],
   "source": [
    "#Return tokens of all sentences in the text\n",
    "def magicTokenise(s): \n",
    "    maxChunk = 300 #limit of reading tokens < 500 words at once\n",
    "    sentences = cleanSentence(s)\n",
    "    current_chunk = 0\n",
    "    chunks = []\n",
    "    for sentence in sentences:\n",
    "        if len(chunks) == current_chunk + 1:\n",
    "            if len(chunks[current_chunk]) + len(sentence.split(' ')) <= maxChunk:\n",
    "                chunks[current_chunk].extend(sentence.split(' '))\n",
    "            else:\n",
    "                current_chunk += 1\n",
    "                chunks.append(sentence.split(' '))\n",
    "        else:\n",
    "            # print(current_chunk)\n",
    "            chunks.append(sentence.split(' '))\n",
    "\n",
    "    for chunk_id in range(len(chunks)):\n",
    "        # print(chunk_id)\n",
    "        chunks[chunk_id] = ' '.join(chunks[chunk_id])\n",
    "    return chunks"
   ]
  },
  {
   "cell_type": "code",
   "execution_count": 22,
   "metadata": {},
   "outputs": [],
   "source": [
    "def joinSentences(FinalText):\n",
    "    Finished = ' '.join([summ['summary_text'] for summ in FinalText])\n",
    "    return Finished"
   ]
  },
  {
   "cell_type": "markdown",
   "metadata": {},
   "source": [
    "<h1> MAIN SUMMARIZER FUNCTION </h1>"
   ]
  },
  {
   "cell_type": "code",
   "execution_count": 40,
   "metadata": {},
   "outputs": [],
   "source": [
    "# Package all the code Together in One Function.\n",
    "# Run this to get the summary you need\n",
    "def SummarizeDoc(filename, wordCount):\n",
    "    myEssay = loadFile(filename)\n",
    "    Draft = magicTokenise(myEssay)\n",
    "#     print(Draft)\n",
    "    mySummary = summarizer(Draft, min_length = 20, max_length = wordCount)\n",
    "    finishedDraft = joinSentences(mySummary)\n",
    "    return finishedDraft"
   ]
  },
  {
   "cell_type": "code",
   "execution_count": 42,
   "metadata": {},
   "outputs": [
    {
     "data": {
      "text/plain": [
       "'the rise of Islamist groups like Boko Haram and Hezbollah has presented a challenge to the common understanding of who has the legitimacy to use hard power . this is because most of political theory on war dictates that states are the sole entities that are supposed to have a monopoly over the use of hard power (Weber, 2015). just cause defines aims or goals for the use of hard power . violence can be applied both directly and indirectly . both Boko Haram and Hezbollah arose out of a response to direct and indirect forms of violence Muslims had been subjected to by their respective states . it is from juxtaposing these factors that we identify that Hezbollah was born to prevent the Shia identity in Lebanon from being destroyed by the Israeli invasion of South Lebanon while Boko Haram was formed to reclaim territory and institute Sharia law so as to recreate their romanticised “Golden Era” of the caliphate . this presents the major distinction between the two: . he has evolved into a radical Islamist group that practices Jihadi-Salafism . the switch to activism through violence came in the form of Hezbollah . it allowed for the Shia to reciprocate the violence that they had been subjected to at the hands of their aggressors . the switch came after the state sanctioned execution of their leader . jus ad bellum shows that hezbollah commands more legitimate authority to use violence as opposed to Boko Haram . this essay acknowledges that his loyalties are split between both Iran and Lebanon due to their belief in a pledge of allegiance to Iran . the involvement of Hezbollah in state affairs like defence and parliamentary elections legitimizes their use of violence as they represent the interests of both the state and the people living in south Lebanon . however, they lack a claim to being a legitimate authority due to them having little to no support from the Muslims they claim to be fighting for in northern Nigeria . thus the targets of their intended violence happen to be the Muslims from who they are supposed to draw their legitimacy from . the use of violence by jus ad bellum is illegitimate as it fails to meet these three criteria . the parties divided loyalties between Iran and Lebanon cast shadow onto the legitimacy of their authority . however, as things stand, Hezbollah retains legitimacy in their use .'"
      ]
     },
     "execution_count": 42,
     "metadata": {},
     "output_type": "execute_result"
    }
   ],
   "source": [
    "SummarizeDoc(\"untitled.txt\", 300)"
   ]
  },
  {
   "cell_type": "markdown",
   "metadata": {},
   "source": [
    "<h1> FORMAT AP STYLE TITLE </h1>"
   ]
  },
  {
   "cell_type": "code",
   "execution_count": 3,
   "metadata": {},
   "outputs": [],
   "source": [
    "# Will format your tutle into AP style\n",
    "def fixTitle(s):\n",
    "    s = s.lower()\n",
    "    illegalWords = [\"in\", \"by\", \"the\", \"on\", \"for\", \"of\", \"we\", \"to\", \"at\", \"do\"] \n",
    "    temp = ''\n",
    "    store = s.split(\" \")\n",
    "\n",
    "    for word in store:\n",
    "        if word not in illegalWords:\n",
    "            # print(\"runs\")\n",
    "            temp += word[0].upper() + word[1:] + \" \"\n",
    "            # print(temp)\n",
    "        else:\n",
    "            temp += word.lower()  + \" \"\n",
    "    return temp\n"
   ]
  }
 ],
 "metadata": {
  "kernelspec": {
   "display_name": "Python 3",
   "language": "python",
   "name": "python3"
  },
  "language_info": {
   "codemirror_mode": {
    "name": "ipython",
    "version": 3
   },
   "file_extension": ".py",
   "mimetype": "text/x-python",
   "name": "python",
   "nbconvert_exporter": "python",
   "pygments_lexer": "ipython3",
   "version": "3.7.6"
  }
 },
 "nbformat": 4,
 "nbformat_minor": 4
}
